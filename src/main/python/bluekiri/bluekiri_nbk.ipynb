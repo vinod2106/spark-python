{
 "cells": [
  {
   "cell_type": "code",
   "execution_count": 4,
   "metadata": {},
   "outputs": [],
   "source": [
    "from pyspark.sql import SparkSession\n",
    "spark = SparkSession\\\n",
    "        .builder\\\n",
    "        .appName(\"GenerateDataset\")\\\n",
    "        .getOrCreate()"
   ]
  },
  {
   "cell_type": "code",
   "execution_count": 6,
   "metadata": {
    "collapsed": true
   },
   "outputs": [
    {
     "name": "stdout",
     "output_type": "stream",
     "text": [
      "+-----------+-------------------+------+\n|destination|internal_flight_ids|origin|\n+-----------+-------------------+------+\n|        OPO|             [2, 1]|   PMI|\n|        BCN|                [3]|   ATH|\n|        MAD|          [5, 4, 6]|   JFK|\n|        LAX|       [8, 9, 7, 0]|   HND|\n+-----------+-------------------+------+\n\n"
     ]
    }
   ],
   "source": [
    "import pandas as pd\n",
    "\n",
    "trips = pd.DataFrame({\n",
    "    \"origin\": [\n",
    "        \"PMI\",\n",
    "        \"ATH\",\n",
    "        \"JFK\",\n",
    "        \"HND\"\n",
    "    ],\n",
    "    \"destination\": [\n",
    "        \"OPO\",\n",
    "        \"BCN\",\n",
    "        \"MAD\",\n",
    "        \"LAX\"\n",
    "    ],\n",
    "    \"internal_flight_ids\": [\n",
    "        [2, 1],\n",
    "        [3],\n",
    "        [5, 4, 6],\n",
    "        [8, 9, 7, 0]\n",
    "    ]    \n",
    "})\n",
    "trips = spark.createDataFrame(trips)\n",
    "trips.show()"
   ]
  },
  {
   "cell_type": "code",
   "execution_count": 7,
   "metadata": {},
   "outputs": [
    {
     "name": "stdout",
     "output_type": "stream",
     "text": [
      "+------------------+--------------------+\n|internal_flight_id|public_flight_number|\n+------------------+--------------------+\n|                 0|              FR5763|\n|                 1|              UT9586|\n|                 2|               B4325|\n|                 3|             RW35675|\n|                 4|               LP656|\n|                 5|              NB4321|\n|                 6|              CX4599|\n|                 7|              AZ8844|\n|                 8|              KH8851|\n|                 9|              OP8777|\n+------------------+--------------------+\n\n"
     ]
    }
   ],
   "source": [
    "\n",
    "flights = pd.DataFrame({\n",
    "    \"internal_flight_id\": [\n",
    "        0, 1, 2, 3, 4, 5, 6, 7, 8, 9\n",
    "    ],\n",
    "    \"public_flight_number\": [\n",
    "        \"FR5763\", \"UT9586\", \"B4325\", \"RW35675\", \"LP656\",\n",
    "        \"NB4321\", \"CX4599\", \"AZ8844\", \"KH8851\", \"OP8777\"\n",
    "    ]\n",
    "})\n",
    "flights = spark.createDataFrame(flights)\n",
    "flights.show()\n"
   ]
  },
  {
   "cell_type": "code",
   "execution_count": 8,
   "metadata": {},
   "outputs": [],
   "source": [
    "from pyspark.sql.functions import col, explode, posexplode, collect_list, monotonically_increasing_id\n",
    "from pyspark.sql.window import Window"
   ]
  },
  {
   "cell_type": "code",
   "execution_count": 13,
   "metadata": {},
   "outputs": [
    {
     "name": "stdout",
     "output_type": "stream",
     "text": [
      "+-----------+\n|     row_id|\n+-----------+\n|          0|\n| 8589934592|\n|17179869184|\n|25769803776|\n+-----------+\n\n"
     ]
    }
   ],
   "source": [
    "trips = trips \\\n",
    "    .withColumn(\"row_id\", monotonically_increasing_id())\n",
    "trips.select(\"row_id\").show()"
   ]
  },
  {
   "cell_type": "code",
   "execution_count": 14,
   "metadata": {},
   "outputs": [
    {
     "name": "stdout",
     "output_type": "stream",
     "text": [
      "+-----------+------------------+\n|     row_id|internal_flight_id|\n+-----------+------------------+\n|          0|                 2|\n|          0|                 1|\n| 8589934592|                 3|\n|17179869184|                 5|\n|17179869184|                 4|\n|17179869184|                 6|\n|25769803776|                 8|\n|25769803776|                 9|\n|25769803776|                 7|\n|25769803776|                 0|\n+-----------+------------------+\n\n"
     ]
    }
   ],
   "source": [
    "exploded = trips \\\n",
    "    .select(col(\"row_id\"),\n",
    "            explode(col(\"internal_flight_ids\")) \\\n",
    "               .alias(\"internal_flight_id\"))\n",
    "exploded.show()"
   ]
  },
  {
   "cell_type": "code",
   "execution_count": 15,
   "metadata": {},
   "outputs": [
    {
     "name": "stdout",
     "output_type": "stream",
     "text": [
      "+------------------+-----------+--------------------+\n|internal_flight_id|     row_id|public_flight_number|\n+------------------+-----------+--------------------+\n|                 0|25769803776|              FR5763|\n|                 7|25769803776|              AZ8844|\n|                 6|17179869184|              CX4599|\n|                 9|25769803776|              OP8777|\n|                 5|17179869184|              NB4321|\n|                 1|          0|              UT9586|\n|                 3| 8589934592|             RW35675|\n|                 8|25769803776|              KH8851|\n|                 2|          0|               B4325|\n|                 4|17179869184|               LP656|\n+------------------+-----------+--------------------+\n\n"
     ]
    }
   ],
   "source": [
    "exploded_with_flight_number = exploded \\\n",
    "    .join(flights, on=\"internal_flight_id\")\n",
    "exploded_with_flight_number.show()"
   ]
  },
  {
   "cell_type": "code",
   "execution_count": 17,
   "metadata": {},
   "outputs": [
    {
     "name": "stdout",
     "output_type": "stream",
     "text": [
      "+-----------+---------------------+\n|     row_id|public_flight_numbers|\n+-----------+---------------------+\n| 8589934592|            [RW35675]|\n|          0|      [UT9586, B4325]|\n|25769803776| [FR5763, AZ8844, ...|\n|17179869184| [CX4599, NB4321, ...|\n+-----------+---------------------+\n\n"
     ]
    }
   ],
   "source": [
    "collected = exploded_with_flight_number \\\n",
    "    .groupBy(\"row_id\") \\\n",
    "    .agg(collect_list(\"public_flight_number\") \\\n",
    "        .alias(\"public_flight_numbers\"))\n",
    "\n",
    "collected.show()"
   ]
  },
  {
   "cell_type": "code",
   "execution_count": 18,
   "metadata": {},
   "outputs": [
    {
     "name": "stdout",
     "output_type": "stream",
     "text": [
      "+---------------------+-----------+------+\n|public_flight_numbers|destination|origin|\n+---------------------+-----------+------+\n|            [RW35675]|        BCN|   ATH|\n|      [UT9586, B4325]|        OPO|   PMI|\n| [FR5763, AZ8844, ...|        LAX|   HND|\n| [CX4599, NB4321, ...|        MAD|   JFK|\n+---------------------+-----------+------+\n\n"
     ]
    }
   ],
   "source": [
    "trips_with_flight_numbers = collected \\\n",
    "    .join(trips, on=\"row_id\") \\\n",
    "    .drop(\"row_id\") \\\n",
    "    .drop(\"internal_flight_ids\")\n",
    "trips_with_flight_numbers.show()"
   ]
  },
  {
   "cell_type": "code",
   "execution_count": 19,
   "metadata": {},
   "outputs": [
    {
     "name": "stdout",
     "output_type": "stream",
     "text": [
      "+-----------+--------+------------------+\n|     row_id|position|internal_flight_id|\n+-----------+--------+------------------+\n|          0|       0|                 2|\n|          0|       1|                 1|\n| 8589934592|       0|                 3|\n|17179869184|       0|                 5|\n|17179869184|       1|                 4|\n|17179869184|       2|                 6|\n|25769803776|       0|                 8|\n|25769803776|       1|                 9|\n|25769803776|       2|                 7|\n|25769803776|       3|                 0|\n+-----------+--------+------------------+\n\n"
     ]
    }
   ],
   "source": [
    "exploded = trips \\\n",
    "    .select(col(\"row_id\"),\n",
    "            posexplode(col(\"internal_flight_ids\"))) \\\n",
    "    .withColumnRenamed(\"col\", \"internal_flight_id\") \\\n",
    "    .withColumnRenamed(\"pos\", \"position\")\n",
    "exploded.show()"
   ]
  },
  {
   "cell_type": "code",
   "execution_count": 20,
   "metadata": {},
   "outputs": [
    {
     "name": "stdout",
     "output_type": "stream",
     "text": [
      "+-----------+---------------------+\n|     row_id|public_flight_numbers|\n+-----------+---------------------+\n| 8589934592|            [RW35675]|\n|          0|      [B4325, UT9586]|\n|          0|      [B4325, UT9586]|\n|25769803776| [KH8851, OP8777, ...|\n|25769803776| [KH8851, OP8777, ...|\n|25769803776| [KH8851, OP8777, ...|\n|25769803776| [KH8851, OP8777, ...|\n|17179869184| [NB4321, LP656, C...|\n|17179869184| [NB4321, LP656, C...|\n|17179869184| [NB4321, LP656, C...|\n+-----------+---------------------+\n\n"
     ]
    }
   ],
   "source": [
    "exploded_with_flight_number = exploded \\\n",
    "    .join(flights, on=\"internal_flight_id\")\n",
    "collected = exploded_with_flight_number \\\n",
    "    .withColumn(\"public_flight_numbers\",\n",
    "                collect_list(\"public_flight_number\")\n",
    "                    .over(Window \\\n",
    "                        .partitionBy(\"row_id\") \\\n",
    "                        .orderBy(\"position\") \\\n",
    "                        .rowsBetween(Window.unboundedPreceding,\n",
    "                                     Window.unboundedFollowing))) \\\n",
    "    .select([\"row_id\", \"public_flight_numbers\"])\n",
    "collected.show()"
   ]
  },
  {
   "cell_type": "code",
   "execution_count": 21,
   "metadata": {},
   "outputs": [
    {
     "name": "stdout",
     "output_type": "stream",
     "text": [
      "+---------------------+-----------+------+\n|public_flight_numbers|destination|origin|\n+---------------------+-----------+------+\n|            [RW35675]|        BCN|   ATH|\n|      [B4325, UT9586]|        OPO|   PMI|\n| [KH8851, OP8777, ...|        LAX|   HND|\n| [NB4321, LP656, C...|        MAD|   JFK|\n+---------------------+-----------+------+\n\n"
     ]
    }
   ],
   "source": [
    "trips_with_flight_numbers = collected \\\n",
    "    .dropDuplicates() \\\n",
    "    .join(trips, on=\"row_id\") \\\n",
    "    .drop(\"row_id\") \\\n",
    "    .drop(\"internal_flight_ids\")\n",
    "trips_with_flight_numbers.show()"
   ]
  },
  {
   "cell_type": "code",
   "execution_count": null,
   "metadata": {},
   "outputs": [],
   "source": []
  }
 ],
 "metadata": {
  "kernelspec": {
   "display_name": "Python 2",
   "language": "python",
   "name": "python2"
  },
  "language_info": {
   "codemirror_mode": {
    "name": "ipython",
    "version": 2
   },
   "file_extension": ".py",
   "mimetype": "text/x-python",
   "name": "python",
   "nbconvert_exporter": "python",
   "pygments_lexer": "ipython2",
   "version": "2.7.6"
  }
 },
 "nbformat": 4,
 "nbformat_minor": 0
}
