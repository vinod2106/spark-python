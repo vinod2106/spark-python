{
 "cells": [
  {
   "cell_type": "code",
   "execution_count": 2,
   "metadata": {},
   "outputs": [
    {
     "ename": "ModuleNotFoundError",
     "evalue": "No module named 'panda'",
     "output_type": "error",
     "traceback": [
      "\u001b[0;31m---------------------------------------------------------------------------\u001b[0m",
      "\u001b[0;31mModuleNotFoundError\u001b[0m                       Traceback (most recent call last)",
      "\u001b[0;32m<ipython-input-2-e66ffe7e0c5d>\u001b[0m in \u001b[0;36m<module>\u001b[0;34m()\u001b[0m\n\u001b[0;32m----> 1\u001b[0;31m \u001b[0;32mimport\u001b[0m \u001b[0mpanda\u001b[0m \u001b[0;32mas\u001b[0m \u001b[0mpd\u001b[0m\u001b[0;34m\u001b[0m\u001b[0m\n\u001b[0m\u001b[1;32m      2\u001b[0m trips = pd.DataFrame({\n\u001b[1;32m      3\u001b[0m     \"origin\": [\n\u001b[1;32m      4\u001b[0m         \u001b[0;34m\"PMI\"\u001b[0m\u001b[0;34m,\u001b[0m\u001b[0;34m\u001b[0m\u001b[0m\n\u001b[1;32m      5\u001b[0m         \u001b[0;34m\"ATH\"\u001b[0m\u001b[0;34m,\u001b[0m\u001b[0;34m\u001b[0m\u001b[0m\n",
      "\u001b[0;31mModuleNotFoundError\u001b[0m: No module named 'panda'"
     ]
    }
   ],
   "source": [
    "import pandas as pd\n",
    "trips = pd.DataFrame({\n",
    "    \"origin\": [\n",
    "        \"PMI\",\n",
    "        \"ATH\",\n",
    "        \"JFK\",\n",
    "        \"HND\"\n",
    "    ],\n",
    "    \"destination\": [\n",
    "        \"OPO\",\n",
    "        \"BCN\",\n",
    "        \"MAD\",\n",
    "        \"LAX\"\n",
    "    ],\n",
    "    \"internal_flight_ids\": [\n",
    "        [2, 1],\n",
    "        [3],\n",
    "        [5, 4, 6],\n",
    "        [8, 9, 7, 0]\n",
    "    ]    \n",
    "})\n",
    "trips = spark.createDataFrame(trips)\n"
   ]
  },
  {
   "cell_type": "code",
   "execution_count": null,
   "metadata": {},
   "outputs": [],
   "source": []
  }
 ],
 "metadata": {
  "kernelspec": {
   "display_name": "Python 3",
   "language": "python",
   "name": "python3"
  },
  "language_info": {
   "codemirror_mode": {
    "name": "ipython",
    "version": 3
   },
   "file_extension": ".py",
   "mimetype": "text/x-python",
   "name": "python",
   "nbconvert_exporter": "python",
   "pygments_lexer": "ipython3",
   "version": "3.6.4"
  }
 },
 "nbformat": 4,
 "nbformat_minor": 1
}
